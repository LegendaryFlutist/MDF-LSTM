{
 "cells": [
  {
   "cell_type": "code",
   "execution_count": null,
   "id": "initial_id",
   "metadata": {
    "collapsed": true
   },
   "outputs": [],
   "source": [
    "import os\n",
    "import random\n",
    "import assembleFeatureMatrix_2 as afm\n",
    "\n",
    "dataDirDev = \".\" + os.sep + \"dataPackage\"\n",
    "featDirDevs = \".\" + os.sep + \"data_feats\" + os.sep + \"combined\"\n",
    "featDirDev = \".\" + os.sep + \"data_feats\"\n",
    "modelDirDev = \".\" + os.sep + \"model_eval\"\n",
    "\n",
    "expType = \"task-ils\"\n",
    "dataDir = dataDirDev + os.path.sep + expType\n",
    "dirs: list[list[str]] = []\n",
    "\n",
    "subjDirs = [f.path for f in os.scandir(dataDir) if f.is_dir()]\n",
    "for subjd in subjDirs:\n",
    "    if 'sub-cp003' in subjd:\n",
    "        continue\n",
    "    sessDirs = [f.path for f in os.scandir(subjd) if f.is_dir()]\n",
    "    for sessd in sessDirs:\n",
    "        runDirs = [f.path for f in os.scandir(sessd) if f.is_dir()]\n",
    "        for rund in runDirs:\n",
    "            dataFiles = [f.path for f in os.scandir(rund) if (f.is_file() and not f.name.startswith('.'))]\n",
    "            tokens = rund.split(os.path.sep)\n",
    "            subj = tokens[-3]\n",
    "            sess = tokens[-2]\n",
    "            level = tokens[-1].split('_')[0]\n",
    "            run = tokens[-1].split('_')[1]\n",
    "            dirs.append([subj, sess, level, run])\n",
    "\n",
    "pctHoldout = 25\n",
    "numDirs = len(dirs)\n",
    "numVal = int(numDirs * float(pctHoldout) / 100)\n",
    "numTrain = numDirs - numVal\n",
    "random.shuffle(dirs)\n",
    "trainSet = dirs[:numTrain]\n",
    "valSet = dirs[numTrain:]\n",
    "\n",
    "aggFeatFilePath = featDirDev + os.path.sep + 'devSubjsFeatMat_vae.csv'\n",
    "featMatDF = afm.getFeatureMatrixSingleFile(dataDirDev, expType, dirs, aggFeatFilePath)"
   ]
  }
 ],
 "metadata": {
  "kernelspec": {
   "display_name": "Python 3",
   "language": "python",
   "name": "python3"
  },
  "language_info": {
   "codemirror_mode": {
    "name": "ipython",
    "version": 2
   },
   "file_extension": ".py",
   "mimetype": "text/x-python",
   "name": "python",
   "nbconvert_exporter": "python",
   "pygments_lexer": "ipython2",
   "version": "2.7.6"
  }
 },
 "nbformat": 4,
 "nbformat_minor": 5
}
