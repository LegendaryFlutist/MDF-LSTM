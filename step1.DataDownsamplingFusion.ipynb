{
 "cells": [
  {
   "cell_type": "markdown",
   "source": [
    "dataset : Multimodal Physiological Monitoring During Virtual Reality Piloting Tasks v1.0.0 (physionet.org)\n",
    "download in dataDirDev"
   ],
   "metadata": {
    "collapsed": false
   },
   "id": "18c2c2a344683a13"
  },
  {
   "cell_type": "code",
   "execution_count": null,
   "id": "initial_id",
   "metadata": {
    "collapsed": true
   },
   "outputs": [],
   "source": [
    "import os\n",
    "import random\n",
    "import load\n",
    "import DownSampling\n",
    "dataDirDev = \".\" + os.sep + \"dataPackage\"\n",
    "featDirDevs = \".\" + os.sep + \"data_feats\" + os.sep + \"combined\"\n",
    "featDirDev = \".\" + os.sep + \"data_feats\"\n",
    "modelDirDev = \".\" + os.sep + \"model_eval\"\n",
    "\n",
    "expType = \"task-ils\"\n",
    "dataDir = dataDirDev + os.path.sep + expType\n",
    "dirs: list[list[str]] = []\n",
    "\n",
    "subjDirs = [f.path for f in os.scandir(dataDir) if f.is_dir()]\n",
    "for subjd in subjDirs:\n",
    "    if 'sub-cp003' in subjd:\n",
    "        continue\n",
    "    sessDirs = [f.path for f in os.scandir(subjd) if f.is_dir()]\n",
    "    for sessd in sessDirs:\n",
    "        runDirs = [f.path for f in os.scandir(sessd) if f.is_dir()]\n",
    "        for rund in runDirs:\n",
    "            dataFiles = [f.path for f in os.scandir(rund) if (f.is_file() and not f.name.startswith('.'))]\n",
    "            tokens = rund.split(os.path.sep)\n",
    "            subj = tokens[-3]\n",
    "            sess = tokens[-2]\n",
    "            level = tokens[-1].split('_')[0]\n",
    "            run = tokens[-1].split('_')[1]\n",
    "            dirs.append([subj, sess, level, run])\n",
    "\n",
    "pctHoldout = 25\n",
    "numDirs = len(dirs)\n",
    "numVal = int(numDirs * float(pctHoldout) / 100)\n",
    "numTrain = numDirs - numVal\n",
    "random.shuffle(dirs)\n",
    "trainSet = dirs[:numTrain]\n",
    "valSet = dirs[numTrain:]\n",
    "\n",
    "aggFeatFilePath = featDirDev + os.path.sep + 'devSubjsFeatMat_vae.csv'\n",
    "featMatDF = afm.getFeatureMatrixSingleFile(dataDirDev, expType, dirs, aggFeatFilePath)\n",
    "\n",
    "featFiles = [f.path for f in os.scandir(featDirDev) if (f.is_file() and not f.name.startswith('.'))]\n",
    "for DIR in dirs:\n",
    "    subj = DIR[0]\n",
    "    sess = DIR[1]\n",
    "    level = DIR[2]\n",
    "    run = DIR[3]\n",
    "    featFile = featDirDev + os.path.sep + subj + \"_\" + sess + \"_\" + level + \"-\" + run + \"_\" + \"combined_data.csv\"\n",
    "    if featFile in featFiles:\n",
    "        continue\n",
    "    eye_data, eda_data, emg_data, resp_data, acc_data, ecg_data = None, None, None, None, None, None\n",
    "    try:\n",
    "        eye_data = load.load_data(dataDir, subj, sess, expType, 'lslhtcviveeye', level, run)\n",
    "        eda_data = load.load_data(dataDir, subj, sess, expType, 'lslshimmereda', level, run)\n",
    "        emg_data = load.load_data(dataDir, subj, sess, expType, 'lslshimmeremg', level, run)\n",
    "        resp_data = load.load_data(dataDir, subj, sess, expType, 'lslshimmerresp', level, run)\n",
    "        ecg_data = load.load_data(dataDir, subj, sess, expType, 'lslshimmerecg', level, run)\n",
    "        # ace_data = load.load_data(dataDir, subj, sess, expType, 'lslrespitrace', level, run)\n",
    "    except Exception:\n",
    "        continue\n",
    "    combined_data = DownSampling.down_sampling_v2(eye_data, eda_data, emg_data, resp_data, ecg_data)\n",
    "    combined_data.to_csv(\n",
    "        featDirDev + os.path.sep + subj + \"_\" + sess + \"_\" + level + \"-\" + run + \"_\" + \"combined_data.csv\",\n",
    "        index=False)\n"
   ]
  }
 ],
 "metadata": {
  "kernelspec": {
   "display_name": "Python 3",
   "language": "python",
   "name": "python3"
  },
  "language_info": {
   "codemirror_mode": {
    "name": "ipython",
    "version": 2
   },
   "file_extension": ".py",
   "mimetype": "text/x-python",
   "name": "python",
   "nbconvert_exporter": "python",
   "pygments_lexer": "ipython2",
   "version": "2.7.6"
  }
 },
 "nbformat": 4,
 "nbformat_minor": 5
}
